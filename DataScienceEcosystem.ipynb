{
 "cells": [
  {
   "cell_type": "markdown",
   "id": "9bb7c7a1-32a0-4d7c-a53d-83a05a9e1e65",
   "metadata": {},
   "source": [
    "# Data Science Tools and Ecosystem\n"
   ]
  },
  {
   "cell_type": "markdown",
   "id": "fff9be48-d31f-4ca2-a377-315bee2fbf57",
   "metadata": {},
   "source": [
    "In this notebook, Data Science Tools and Ecosystem are summarized."
   ]
  },
  {
   "cell_type": "markdown",
   "id": "a52cac68-5160-42c2-8a9c-15dcfc59b6ae",
   "metadata": {},
   "source": [
    "Some of the popular languages that Data Scientists use are:  \n",
    "\n",
    "1. Python  \n",
    "2. R  \n",
    "3. SQL  "
   ]
  },
  {
   "cell_type": "markdown",
   "id": "dbdc41fe-cedd-49ce-8ddd-8809a3c0263e",
   "metadata": {},
   "source": [
    "Some of the commonly used libraries used by Data Scientists include:  \n",
    "\n",
    "1. Pandas  \n",
    "2. NumPy  \n",
    "3. Scikit-learn  \n",
    "4. TensorFlow  \n",
    "5. Matplotlib  "
   ]
  },
  {
   "cell_type": "markdown",
   "id": "cd0c3ac1-8cac-404a-a3ef-b7a12aebbc94",
   "metadata": {},
   "source": [
    "| Data Science Tools |  \n",
    "|--------------------|  \n",
    "| Jupyter Notebook  |  \n",
    "| RStudio           |  \n",
    "| Apache Zeppelin   | "
   ]
  },
  {
   "cell_type": "markdown",
   "id": "b3d6ee7e-dc89-48b3-ac75-6883f00256c8",
   "metadata": {},
   "source": [
    "### Below are a few examples of evaluating arithmetic expressions in Python."
   ]
  },
  {
   "cell_type": "code",
   "execution_count": 14,
   "id": "c8d6f3ea-c8fd-46cd-995e-ff864b66517b",
   "metadata": {},
   "outputs": [
    {
     "data": {
      "text/plain": [
       "17"
      ]
     },
     "execution_count": 14,
     "metadata": {},
     "output_type": "execute_result"
    }
   ],
   "source": [
    "# This is a simple arithmetic expression to multiply then add integers\n",
    "(3 * 4) + 5\n"
   ]
  },
  {
   "cell_type": "code",
   "execution_count": 16,
   "id": "e39f760d-8735-4cd4-a3c6-f0eb6ea4f55c",
   "metadata": {},
   "outputs": [
    {
     "data": {
      "text/plain": [
       "3.3333333333333335"
      ]
     },
     "execution_count": 16,
     "metadata": {},
     "output_type": "execute_result"
    }
   ],
   "source": [
    "# This will convert 200 minutes to hours by dividing by 60\n",
    "200 / 60"
   ]
  },
  {
   "cell_type": "markdown",
   "id": "2edf310a-81f4-410e-a1da-72918a5dfc98",
   "metadata": {},
   "source": [
    "**Objectives:**  \n",
    "\n",
    "- List popular languages for Data Science  \n",
    "- Identify common Data Science libraries  \n",
    "- Understand the commonly used Data Science tools  \n",
    "- Perform simple arithmetic operations in Python  \n",
    "- Convert units using Python expressions  "
   ]
  },
  {
   "cell_type": "markdown",
   "id": "721cfc03-3860-400c-a527-c17c3affa7a4",
   "metadata": {},
   "source": [
    "## Author  \n",
    "Enric Gil Esteller"
   ]
  },
  {
   "cell_type": "code",
   "execution_count": null,
   "id": "31649326-1c8a-4b15-9abf-c26b86badbe9",
   "metadata": {},
   "outputs": [],
   "source": []
  }
 ],
 "metadata": {
  "kernelspec": {
   "display_name": "Python 3 (ipykernel)",
   "language": "python",
   "name": "python3"
  },
  "language_info": {
   "codemirror_mode": {
    "name": "ipython",
    "version": 3
   },
   "file_extension": ".py",
   "mimetype": "text/x-python",
   "name": "python",
   "nbconvert_exporter": "python",
   "pygments_lexer": "ipython3",
   "version": "3.12.7"
  }
 },
 "nbformat": 4,
 "nbformat_minor": 5
}
